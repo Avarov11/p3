{
 "cells": [
  {
   "cell_type": "code",
   "execution_count": 1,
   "id": "2e69dce1",
   "metadata": {},
   "outputs": [
    {
     "name": "stdout",
     "output_type": "stream",
     "text": [
      "5\n",
      "3\n",
      "2\n",
      "2\n",
      "2\n",
      "3\n",
      "72\n"
     ]
    }
   ],
   "source": [
    "li= []\n",
    "y=int(input())\n",
    "for i in range(y):\n",
    "    n = int(input())\n",
    "    li.append(n)\n",
    "sum=1\n",
    "for i in range(y):\n",
    "    sum *= li[i]\n",
    "print(sum)"
   ]
  },
  {
   "cell_type": "code",
   "execution_count": 2,
   "id": "03b156a2",
   "metadata": {},
   "outputs": [
    {
     "name": "stdout",
     "output_type": "stream",
     "text": [
      "[('item3', '24.5'), ('item2', '15.10'), ('item1', '12.20')]\n"
     ]
    }
   ],
   "source": [
    "price = [('item1', '12.20'), ('item2', '15.10'), ('item3', '24.5')]\n",
    "print( sorted(price, key=lambda x: float(x[1]), reverse=True))"
   ]
  },
  {
   "cell_type": "code",
   "execution_count": 3,
   "id": "0c4fbccf",
   "metadata": {},
   "outputs": [
    {
     "name": "stdout",
     "output_type": "stream",
     "text": [
      "{'a': 400, 'b': 400, 'c': 300, 'd': 400}\n"
     ]
    }
   ],
   "source": [
    "d1 = {'a': 100, 'b': 200, 'c':300}\n",
    "d2 = {'a': 300, 'b': 200, 'd':400}\n",
    "\n",
    "d3 = dict(d1)\n",
    "d3.update(d2)\n",
    "for i, j in d1.items():\n",
    "    for x, y in d2.items():\n",
    "        if i == x:\n",
    "            d3[i]=(j+y)\n",
    "print(d3)"
   ]
  },
  {
   "cell_type": "code",
   "execution_count": null,
   "id": "03d90bf9",
   "metadata": {},
   "outputs": [],
   "source": [
    "x= int(input(\"enter number\"))\n",
    "number = {}\n",
    "for i in range(1,x+1):\n",
    "  number[i]=i*i\n",
    "  print(number)"
   ]
  },
  {
   "cell_type": "code",
   "execution_count": 4,
   "id": "207df5ce",
   "metadata": {},
   "outputs": [
    {
     "name": "stdout",
     "output_type": "stream",
     "text": [
      "[(2, 1), (1, 2), (2, 3), (4, 4), (2, 5)]\n"
     ]
    }
   ],
   "source": [
    "list1= [(2, 5), (1, 2), (4, 4), (2, 3), (2, 1)]\n",
    "print(sorted(list1, key=lambda x: int(x[1])))"
   ]
  },
  {
   "cell_type": "markdown",
   "id": "fcf515c5",
   "metadata": {},
   "source": []
  }
 ],
 "metadata": {
  "kernelspec": {
   "display_name": "Python 3 (ipykernel)",
   "language": "python",
   "name": "python3"
  },
  "language_info": {
   "codemirror_mode": {
    "name": "ipython",
    "version": 3
   },
   "file_extension": ".py",
   "mimetype": "text/x-python",
   "name": "python",
   "nbconvert_exporter": "python",
   "pygments_lexer": "ipython3",
   "version": "3.9.12"
  }
 },
 "nbformat": 4,
 "nbformat_minor": 5
}
